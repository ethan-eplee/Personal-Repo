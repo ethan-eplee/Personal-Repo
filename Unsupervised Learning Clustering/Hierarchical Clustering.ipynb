{
 "cells": [
  {
   "cell_type": "markdown",
   "id": "6229bce2",
   "metadata": {},
   "source": [
    "## With Hierarchical clustering, we seek to:\n",
    "---\n",
    "- Build hierarchies of clusters.\n",
    "- Connect the clusters in the hierarchy with links.\n",
    "\n",
    "Once the links are determined, we can display them in what is called a **dendrogram** - a graph that displays all of these links in their hierarchical structure.\n",
    "\n",
    "To find clusters in a dendogram, we cut graph to find clusters."
   ]
  },
  {
   "cell_type": "markdown",
   "id": "4700d4c7",
   "metadata": {},
   "source": [
    "## When does hierarchical clustering perform well?\n",
    "\n",
    "---\n",
    "\n",
    "- Hierarchical clustering works well for non-spherical clusters\n",
    "- It also works well on smaller datasets - _this algorithm has a longer computational time and doesn't work well for larger datasets_\n",
    "- Text based features also work well, but due to the nature of high dimensionality of text data, this type of algorithm will take a while to complete in these cases.\n",
    "\n",
    "$$O(n^2 * n\\ features)$$\n",
    "\n",
    "### Hierarchical clustering works well for problems where data is consistently formed, no matter the shape."
   ]
  },
  {
   "cell_type": "markdown",
   "id": "d6748df0",
   "metadata": {},
   "source": [
    "## Hierarchical vs K-means clustering\n",
    "---"
   ]
  },
  {
   "cell_type": "code",
   "execution_count": null,
   "id": "5e4cd826",
   "metadata": {},
   "outputs": [],
   "source": []
  }
 ],
 "metadata": {
  "kernelspec": {
   "display_name": "Python 3 (ipykernel)",
   "language": "python",
   "name": "python3"
  },
  "language_info": {
   "codemirror_mode": {
    "name": "ipython",
    "version": 3
   },
   "file_extension": ".py",
   "mimetype": "text/x-python",
   "name": "python",
   "nbconvert_exporter": "python",
   "pygments_lexer": "ipython3",
   "version": "3.9.7"
  }
 },
 "nbformat": 4,
 "nbformat_minor": 5
}
