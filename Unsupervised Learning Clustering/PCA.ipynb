{
 "cells": [
  {
   "cell_type": "markdown",
   "id": "d297ae36",
   "metadata": {},
   "source": [
    "## Principal Component Analysis - What is PCA doing?\n",
    "1. We are going to look at how all of the $X$ variables relate to one another and summarize these relationships.\n",
    "2. Then, we will take this summary and look at which combinations of our $X$ variables are most important.\n",
    "3. We can also quantify how important each combination is and rank these combinations.\n",
    "\n",
    "Once we've taken our original $X$ data and transformed it into $Z$, we can then drop the columns of $Z$ that are \"least important.\""
   ]
  },
  {
   "cell_type": "markdown",
   "id": "a3e2c085",
   "metadata": {},
   "source": [
    "The principal components are the most concise, informative descriptors of our data as a whole.\n",
    "- What does this mean?\n",
    "- If we wanted to take our full data set and condense it into one dimension (think like our $X$ axis), we'd only use $Z_1$.\n",
    "- If we wanted to take our full data set and condense it into two dimensions (think like our $X$ and $Y$ axes), we'd use $Z_1$ and $Z_2$."
   ]
  },
  {
   "cell_type": "code",
   "execution_count": 1,
   "id": "ceb556a2",
   "metadata": {},
   "outputs": [],
   "source": [
    "# Import our libraries.\n",
    "import pandas as pd\n",
    "import numpy as np\n",
    "import matplotlib.pyplot as plt\n",
    "import seaborn as sns\n",
    "\n",
    "# Import from sklearn.\n",
    "from sklearn.model_selection import train_test_split\n",
    "from sklearn.linear_model import LinearRegression\n",
    "from sklearn.preprocessing import PolynomialFeatures, StandardScaler\n",
    "\n",
    "# Set a random seed.\n",
    "np.random.seed(42)"
   ]
  },
  {
   "cell_type": "markdown",
   "id": "91352469",
   "metadata": {},
   "source": [
    "## Test Code using multiple linear regression\n",
    "Use the physiochemical properties of wine to predict quality"
   ]
  },
  {
   "cell_type": "code",
   "execution_count": 2,
   "id": "3c243483",
   "metadata": {},
   "outputs": [
    {
     "data": {
      "text/html": [
       "<div>\n",
       "<style scoped>\n",
       "    .dataframe tbody tr th:only-of-type {\n",
       "        vertical-align: middle;\n",
       "    }\n",
       "\n",
       "    .dataframe tbody tr th {\n",
       "        vertical-align: top;\n",
       "    }\n",
       "\n",
       "    .dataframe thead th {\n",
       "        text-align: right;\n",
       "    }\n",
       "</style>\n",
       "<table border=\"1\" class=\"dataframe\">\n",
       "  <thead>\n",
       "    <tr style=\"text-align: right;\">\n",
       "      <th></th>\n",
       "      <th>fixed acidity</th>\n",
       "      <th>volatile acidity</th>\n",
       "      <th>citric acid</th>\n",
       "      <th>residual sugar</th>\n",
       "      <th>chlorides</th>\n",
       "      <th>free sulfur dioxide</th>\n",
       "      <th>total sulfur dioxide</th>\n",
       "      <th>density</th>\n",
       "      <th>pH</th>\n",
       "      <th>sulphates</th>\n",
       "      <th>alcohol</th>\n",
       "      <th>quality</th>\n",
       "    </tr>\n",
       "  </thead>\n",
       "  <tbody>\n",
       "    <tr>\n",
       "      <th>0</th>\n",
       "      <td>7.4</td>\n",
       "      <td>0.70</td>\n",
       "      <td>0.00</td>\n",
       "      <td>1.9</td>\n",
       "      <td>0.076</td>\n",
       "      <td>11.0</td>\n",
       "      <td>34.0</td>\n",
       "      <td>0.9978</td>\n",
       "      <td>3.51</td>\n",
       "      <td>0.56</td>\n",
       "      <td>9.4</td>\n",
       "      <td>5</td>\n",
       "    </tr>\n",
       "    <tr>\n",
       "      <th>1</th>\n",
       "      <td>7.8</td>\n",
       "      <td>0.88</td>\n",
       "      <td>0.00</td>\n",
       "      <td>2.6</td>\n",
       "      <td>0.098</td>\n",
       "      <td>25.0</td>\n",
       "      <td>67.0</td>\n",
       "      <td>0.9968</td>\n",
       "      <td>3.20</td>\n",
       "      <td>0.68</td>\n",
       "      <td>9.8</td>\n",
       "      <td>5</td>\n",
       "    </tr>\n",
       "    <tr>\n",
       "      <th>2</th>\n",
       "      <td>7.8</td>\n",
       "      <td>0.76</td>\n",
       "      <td>0.04</td>\n",
       "      <td>2.3</td>\n",
       "      <td>0.092</td>\n",
       "      <td>15.0</td>\n",
       "      <td>54.0</td>\n",
       "      <td>0.9970</td>\n",
       "      <td>3.26</td>\n",
       "      <td>0.65</td>\n",
       "      <td>9.8</td>\n",
       "      <td>5</td>\n",
       "    </tr>\n",
       "    <tr>\n",
       "      <th>3</th>\n",
       "      <td>11.2</td>\n",
       "      <td>0.28</td>\n",
       "      <td>0.56</td>\n",
       "      <td>1.9</td>\n",
       "      <td>0.075</td>\n",
       "      <td>17.0</td>\n",
       "      <td>60.0</td>\n",
       "      <td>0.9980</td>\n",
       "      <td>3.16</td>\n",
       "      <td>0.58</td>\n",
       "      <td>9.8</td>\n",
       "      <td>6</td>\n",
       "    </tr>\n",
       "    <tr>\n",
       "      <th>4</th>\n",
       "      <td>7.4</td>\n",
       "      <td>0.70</td>\n",
       "      <td>0.00</td>\n",
       "      <td>1.9</td>\n",
       "      <td>0.076</td>\n",
       "      <td>11.0</td>\n",
       "      <td>34.0</td>\n",
       "      <td>0.9978</td>\n",
       "      <td>3.51</td>\n",
       "      <td>0.56</td>\n",
       "      <td>9.4</td>\n",
       "      <td>5</td>\n",
       "    </tr>\n",
       "  </tbody>\n",
       "</table>\n",
       "</div>"
      ],
      "text/plain": [
       "   fixed acidity  volatile acidity  citric acid  residual sugar  chlorides  \\\n",
       "0            7.4              0.70         0.00             1.9      0.076   \n",
       "1            7.8              0.88         0.00             2.6      0.098   \n",
       "2            7.8              0.76         0.04             2.3      0.092   \n",
       "3           11.2              0.28         0.56             1.9      0.075   \n",
       "4            7.4              0.70         0.00             1.9      0.076   \n",
       "\n",
       "   free sulfur dioxide  total sulfur dioxide  density    pH  sulphates  \\\n",
       "0                 11.0                  34.0   0.9978  3.51       0.56   \n",
       "1                 25.0                  67.0   0.9968  3.20       0.68   \n",
       "2                 15.0                  54.0   0.9970  3.26       0.65   \n",
       "3                 17.0                  60.0   0.9980  3.16       0.58   \n",
       "4                 11.0                  34.0   0.9978  3.51       0.56   \n",
       "\n",
       "   alcohol  quality  \n",
       "0      9.4        5  \n",
       "1      9.8        5  \n",
       "2      9.8        5  \n",
       "3      9.8        6  \n",
       "4      9.4        5  "
      ]
     },
     "execution_count": 2,
     "metadata": {},
     "output_type": "execute_result"
    }
   ],
   "source": [
    "# Read in the wine quality datasets.\n",
    "df_red = pd.read_csv('./datasets/winequality-red.csv', sep=';')\n",
    "df_white = pd.read_csv('./datasets/winequality-white.csv', sep=';')\n",
    "\n",
    "# Stack datasets together. (They have the same column names!)\n",
    "df = pd.concat([df_red, df_white])\n",
    "\n",
    "# Check out head of our dataframe.\n",
    "df.head()"
   ]
  },
  {
   "cell_type": "code",
   "execution_count": 3,
   "id": "1636608d",
   "metadata": {},
   "outputs": [
    {
     "data": {
      "text/plain": [
       "fixed acidity           0\n",
       "volatile acidity        0\n",
       "citric acid             0\n",
       "residual sugar          0\n",
       "chlorides               0\n",
       "free sulfur dioxide     0\n",
       "total sulfur dioxide    0\n",
       "density                 0\n",
       "pH                      0\n",
       "sulphates               0\n",
       "alcohol                 0\n",
       "dtype: int64"
      ]
     },
     "execution_count": 3,
     "metadata": {},
     "output_type": "execute_result"
    }
   ],
   "source": [
    "# Set y to be the quality column.\n",
    "y = df['quality']\n",
    "\n",
    "# Set X as all other columns.\n",
    "X = df.drop(columns=['quality'])\n",
    "\n",
    "# How much missing data do we have?\n",
    "X.isnull().sum()"
   ]
  },
  {
   "cell_type": "code",
   "execution_count": 4,
   "id": "85fa17a4",
   "metadata": {},
   "outputs": [
    {
     "name": "stdout",
     "output_type": "stream",
     "text": [
      "(6497, 364)\n",
      "(6497, 11)\n"
     ]
    }
   ],
   "source": [
    "# To show off the strength of PCA, we're going to make many, many more features.\n",
    "pf = PolynomialFeatures(degree = 3)\n",
    "\n",
    "# Fit and transform our X data using Polynomial Features.\n",
    "X_new = pf.fit_transform(X)\n",
    "\n",
    "# How many features do we have now?\n",
    "print(X_new.shape)\n",
    "\n",
    "# How many features did we start out with?\n",
    "print(X.shape)"
   ]
  },
  {
   "cell_type": "code",
   "execution_count": 5,
   "id": "c415332e",
   "metadata": {},
   "outputs": [],
   "source": [
    "# Train/test split our data.\n",
    "X_train, X_test, y_train, y_test = train_test_split(X_new,\n",
    "                                                    y,\n",
    "                                                    test_size = 0.33,\n",
    "                                                    random_state = 42)"
   ]
  },
  {
   "cell_type": "code",
   "execution_count": 6,
   "id": "5bc753ac",
   "metadata": {},
   "outputs": [
    {
     "name": "stdout",
     "output_type": "stream",
     "text": [
      "Training Score: 0.4563.\n",
      "Testing Score: -0.8845.\n"
     ]
    }
   ],
   "source": [
    "# Instantiate and fit a linear regression model.\n",
    "lm = LinearRegression()\n",
    "lm.fit(X_train, y_train)\n",
    "\n",
    "# Score on training set. (We'll use R^2 for the score today.)\n",
    "print(f'Training Score: {round(lm.score(X_train, y_train),4)}.')\n",
    "\n",
    "# Score on testing set.\n",
    "print(f'Testing Score: {round(lm.score(X_test, y_test),4)}.')"
   ]
  },
  {
   "cell_type": "markdown",
   "id": "2d45ec4c",
   "metadata": {},
   "source": [
    "Evaluation of multiple linear regression in this case\n",
    "- We've clearly overfit our model to the data (so much so that our model's performance is really bad)!\n",
    "- We have a lot of columns relative to our number of rows! (If you have $n$ rows and you're fitting a linear model, it's often advised to keep your number of columns below $\\sqrt{n}$.)\n",
    "\n",
    "How to overcome:\n",
    "- We can drop features from our model. (However, this loses any benefit we'd get from dropping those features! It can also be time-consuming and/or require subject-matter expertise.)\n",
    "- Maybe we can combine features together so that we can get the benefits of most/all of our features. (This is what PCA will do.)"
   ]
  },
  {
   "cell_type": "markdown",
   "id": "00edb2b8",
   "metadata": {},
   "source": [
    "## Purpose of this is to reduce features/ dimensions\n",
    "---\n",
    "Advantages of dimensionality reduction:\n",
    "- Increases computational efficiency when fitting models.\n",
    "- Can help with addressing a multicollinearity problem.\n",
    "- Makes visualization simpler (or feasible).\n",
    "\n",
    "Disadvantages:\n",
    "- We've invested our time and money into collecting information... why do we want to get rid of it?"
   ]
  },
  {
   "cell_type": "markdown",
   "id": "e55f9779",
   "metadata": {},
   "source": [
    "## 2 categories of Dimensionality Reduction:\n",
    "- **Feature Selection**\n",
    "    - We drop variables from our model.\n",
    "- **Feature Extraction**\n",
    "    - In feature extraction, we take our existing features and combine them together in a particular way. We can then drop some of these \"new\" variables, but the variables we keep are still a combination of the old variables!\n",
    "    - This allows us to still reduce the number of features in our model **but** we can keep all of the most important pieces of the original features!\n"
   ]
  },
  {
   "cell_type": "markdown",
   "id": "85477f57",
   "metadata": {},
   "source": [
    "## Feature Selection vs Feature Extraction\n",
    "- Feature selection is a process of dropping original features from our model.\n",
    "- Feature extraction is a process of transforming our original features into \"new\" features, then dropping some of the \"new\" features from our model."
   ]
  },
  {
   "cell_type": "markdown",
   "id": "7a2df374",
   "metadata": {},
   "source": [
    "## If I'm going to keep three of my new predictors, which three would I keep?\n",
    "- The first three: $Z_1$, $Z_2$, and $Z_3$.\n",
    "- This is how we do feature extraction.\n",
    "    - We take our old features $X_1$, $X_2$, $X_3$, and $X_4$.\n",
    "    - We turn them into new features $Z_1$, $Z_2$, $Z_3$, and $Z_4$.\n",
    "    - The new features are combinations of our old features.\n",
    "    - If we drop new features, we're doing dimensionality reduction, but we also keep parts of every old feature!"
   ]
  },
  {
   "cell_type": "markdown",
   "id": "4f860bbb",
   "metadata": {},
   "source": [
    "## PCA CODE!"
   ]
  },
  {
   "cell_type": "code",
   "execution_count": 7,
   "id": "82f81c52",
   "metadata": {},
   "outputs": [],
   "source": [
    "# Instantiate our StandardScaler.\n",
    "ss = StandardScaler()\n",
    "\n",
    "# Standardize X_train.\n",
    "X_train = ss.fit_transform(X_train)\n",
    "\n",
    "# Standardize X_test.\n",
    "X_test = ss.transform(X_test)"
   ]
  },
  {
   "cell_type": "code",
   "execution_count": 8,
   "id": "6b8704fe",
   "metadata": {},
   "outputs": [],
   "source": [
    "# Import PCA.\n",
    "from sklearn.decomposition import PCA"
   ]
  },
  {
   "cell_type": "code",
   "execution_count": 9,
   "id": "4bafe87b",
   "metadata": {},
   "outputs": [],
   "source": [
    "# Instantiate PCA.\n",
    "pca = PCA(random_state = 42)"
   ]
  },
  {
   "cell_type": "code",
   "execution_count": 10,
   "id": "5a203286",
   "metadata": {},
   "outputs": [
    {
     "data": {
      "text/plain": [
       "PCA(random_state=42)"
      ]
     },
     "execution_count": 10,
     "metadata": {},
     "output_type": "execute_result"
    }
   ],
   "source": [
    "# Fit PCA on the training data.\n",
    "pca.fit(X_train)"
   ]
  },
  {
   "cell_type": "code",
   "execution_count": 11,
   "id": "2f0fbd61",
   "metadata": {},
   "outputs": [],
   "source": [
    "# Transform PCA on the training data.\n",
    "Z_train = pca.transform(X_train)"
   ]
  },
  {
   "cell_type": "code",
   "execution_count": 12,
   "id": "98e23403",
   "metadata": {},
   "outputs": [
    {
     "data": {
      "text/html": [
       "<div>\n",
       "<style scoped>\n",
       "    .dataframe tbody tr th:only-of-type {\n",
       "        vertical-align: middle;\n",
       "    }\n",
       "\n",
       "    .dataframe tbody tr th {\n",
       "        vertical-align: top;\n",
       "    }\n",
       "\n",
       "    .dataframe thead th {\n",
       "        text-align: right;\n",
       "    }\n",
       "</style>\n",
       "<table border=\"1\" class=\"dataframe\">\n",
       "  <thead>\n",
       "    <tr style=\"text-align: right;\">\n",
       "      <th></th>\n",
       "      <th>0</th>\n",
       "      <th>1</th>\n",
       "      <th>2</th>\n",
       "      <th>3</th>\n",
       "      <th>4</th>\n",
       "      <th>5</th>\n",
       "      <th>6</th>\n",
       "      <th>7</th>\n",
       "      <th>8</th>\n",
       "      <th>9</th>\n",
       "      <th>...</th>\n",
       "      <th>354</th>\n",
       "      <th>355</th>\n",
       "      <th>356</th>\n",
       "      <th>357</th>\n",
       "      <th>358</th>\n",
       "      <th>359</th>\n",
       "      <th>360</th>\n",
       "      <th>361</th>\n",
       "      <th>362</th>\n",
       "      <th>363</th>\n",
       "    </tr>\n",
       "  </thead>\n",
       "  <tbody>\n",
       "    <tr>\n",
       "      <th>count</th>\n",
       "      <td>4.352000e+03</td>\n",
       "      <td>4.352000e+03</td>\n",
       "      <td>4.352000e+03</td>\n",
       "      <td>4.352000e+03</td>\n",
       "      <td>4.352000e+03</td>\n",
       "      <td>4.352000e+03</td>\n",
       "      <td>4.352000e+03</td>\n",
       "      <td>4.352000e+03</td>\n",
       "      <td>4.352000e+03</td>\n",
       "      <td>4.352000e+03</td>\n",
       "      <td>...</td>\n",
       "      <td>4.352000e+03</td>\n",
       "      <td>4.352000e+03</td>\n",
       "      <td>4.352000e+03</td>\n",
       "      <td>4.352000e+03</td>\n",
       "      <td>4.352000e+03</td>\n",
       "      <td>4.352000e+03</td>\n",
       "      <td>4.352000e+03</td>\n",
       "      <td>4.352000e+03</td>\n",
       "      <td>4.352000e+03</td>\n",
       "      <td>4.352000e+03</td>\n",
       "    </tr>\n",
       "    <tr>\n",
       "      <th>mean</th>\n",
       "      <td>1.791867e-16</td>\n",
       "      <td>-3.739350e-16</td>\n",
       "      <td>7.142979e-17</td>\n",
       "      <td>-9.724656e-17</td>\n",
       "      <td>1.089304e-17</td>\n",
       "      <td>3.836800e-17</td>\n",
       "      <td>-6.969507e-17</td>\n",
       "      <td>-3.265362e-18</td>\n",
       "      <td>6.265413e-17</td>\n",
       "      <td>-1.712274e-16</td>\n",
       "      <td>...</td>\n",
       "      <td>-2.988082e-17</td>\n",
       "      <td>-2.098214e-17</td>\n",
       "      <td>1.986625e-17</td>\n",
       "      <td>-6.994047e-17</td>\n",
       "      <td>-2.008615e-17</td>\n",
       "      <td>-1.386594e-18</td>\n",
       "      <td>-1.172470e-18</td>\n",
       "      <td>-1.097543e-17</td>\n",
       "      <td>4.607641e-17</td>\n",
       "      <td>5.145517e-26</td>\n",
       "    </tr>\n",
       "    <tr>\n",
       "      <th>std</th>\n",
       "      <td>1.059077e+01</td>\n",
       "      <td>8.173139e+00</td>\n",
       "      <td>6.290206e+00</td>\n",
       "      <td>5.899809e+00</td>\n",
       "      <td>4.755777e+00</td>\n",
       "      <td>4.187379e+00</td>\n",
       "      <td>3.663482e+00</td>\n",
       "      <td>3.519570e+00</td>\n",
       "      <td>2.952624e+00</td>\n",
       "      <td>2.382871e+00</td>\n",
       "      <td>...</td>\n",
       "      <td>3.324420e-07</td>\n",
       "      <td>2.824236e-07</td>\n",
       "      <td>2.473689e-07</td>\n",
       "      <td>1.937117e-07</td>\n",
       "      <td>1.745561e-07</td>\n",
       "      <td>1.617731e-07</td>\n",
       "      <td>1.377643e-07</td>\n",
       "      <td>9.470085e-08</td>\n",
       "      <td>2.940241e-08</td>\n",
       "      <td>3.084790e-16</td>\n",
       "    </tr>\n",
       "    <tr>\n",
       "      <th>min</th>\n",
       "      <td>-2.652547e+01</td>\n",
       "      <td>-1.274783e+01</td>\n",
       "      <td>-2.469224e+01</td>\n",
       "      <td>-4.787008e+01</td>\n",
       "      <td>-2.255302e+01</td>\n",
       "      <td>-2.058849e+01</td>\n",
       "      <td>-2.871649e+01</td>\n",
       "      <td>-1.818558e+01</td>\n",
       "      <td>-1.423366e+01</td>\n",
       "      <td>-2.376801e+01</td>\n",
       "      <td>...</td>\n",
       "      <td>-3.023989e-06</td>\n",
       "      <td>-2.779914e-06</td>\n",
       "      <td>-1.989357e-06</td>\n",
       "      <td>-1.760353e-06</td>\n",
       "      <td>-1.692596e-06</td>\n",
       "      <td>-1.716397e-06</td>\n",
       "      <td>-1.619285e-06</td>\n",
       "      <td>-8.943172e-07</td>\n",
       "      <td>-2.324601e-07</td>\n",
       "      <td>-7.468380e-15</td>\n",
       "    </tr>\n",
       "    <tr>\n",
       "      <th>25%</th>\n",
       "      <td>-7.399924e+00</td>\n",
       "      <td>-5.048388e+00</td>\n",
       "      <td>-4.000986e+00</td>\n",
       "      <td>-3.001194e+00</td>\n",
       "      <td>-2.383840e+00</td>\n",
       "      <td>-2.356163e+00</td>\n",
       "      <td>-2.189302e+00</td>\n",
       "      <td>-2.283286e+00</td>\n",
       "      <td>-1.858204e+00</td>\n",
       "      <td>-1.434927e+00</td>\n",
       "      <td>...</td>\n",
       "      <td>-1.378026e-07</td>\n",
       "      <td>-9.565180e-08</td>\n",
       "      <td>-1.013028e-07</td>\n",
       "      <td>-7.476632e-08</td>\n",
       "      <td>-6.683678e-08</td>\n",
       "      <td>-6.463550e-08</td>\n",
       "      <td>-4.998106e-08</td>\n",
       "      <td>-3.541248e-08</td>\n",
       "      <td>-1.156609e-08</td>\n",
       "      <td>-7.859317e-17</td>\n",
       "    </tr>\n",
       "    <tr>\n",
       "      <th>50%</th>\n",
       "      <td>-1.779810e+00</td>\n",
       "      <td>-1.784668e+00</td>\n",
       "      <td>-6.808596e-01</td>\n",
       "      <td>-6.803642e-02</td>\n",
       "      <td>-4.819930e-02</td>\n",
       "      <td>-7.350413e-02</td>\n",
       "      <td>-1.303354e-01</td>\n",
       "      <td>-1.860893e-01</td>\n",
       "      <td>1.402668e-01</td>\n",
       "      <td>-7.198744e-02</td>\n",
       "      <td>...</td>\n",
       "      <td>1.628219e-08</td>\n",
       "      <td>1.037889e-08</td>\n",
       "      <td>-9.718862e-09</td>\n",
       "      <td>3.965880e-09</td>\n",
       "      <td>3.880116e-10</td>\n",
       "      <td>-1.324978e-09</td>\n",
       "      <td>6.129292e-10</td>\n",
       "      <td>2.191275e-09</td>\n",
       "      <td>4.248726e-10</td>\n",
       "      <td>1.950242e-17</td>\n",
       "    </tr>\n",
       "    <tr>\n",
       "      <th>75%</th>\n",
       "      <td>6.595688e+00</td>\n",
       "      <td>2.770390e+00</td>\n",
       "      <td>3.760017e+00</td>\n",
       "      <td>3.103933e+00</td>\n",
       "      <td>2.411031e+00</td>\n",
       "      <td>2.287913e+00</td>\n",
       "      <td>1.959506e+00</td>\n",
       "      <td>2.180386e+00</td>\n",
       "      <td>1.909862e+00</td>\n",
       "      <td>1.358250e+00</td>\n",
       "      <td>...</td>\n",
       "      <td>1.393233e-07</td>\n",
       "      <td>1.054804e-07</td>\n",
       "      <td>1.014314e-07</td>\n",
       "      <td>7.356252e-08</td>\n",
       "      <td>6.753657e-08</td>\n",
       "      <td>5.911348e-08</td>\n",
       "      <td>4.857961e-08</td>\n",
       "      <td>3.957595e-08</td>\n",
       "      <td>1.240289e-08</td>\n",
       "      <td>1.172730e-16</td>\n",
       "    </tr>\n",
       "    <tr>\n",
       "      <th>max</th>\n",
       "      <td>9.524253e+01</td>\n",
       "      <td>1.149057e+02</td>\n",
       "      <td>8.074751e+01</td>\n",
       "      <td>1.338557e+02</td>\n",
       "      <td>7.609410e+01</td>\n",
       "      <td>3.965114e+01</td>\n",
       "      <td>3.559624e+01</td>\n",
       "      <td>5.628123e+01</td>\n",
       "      <td>1.936733e+01</td>\n",
       "      <td>2.458697e+01</td>\n",
       "      <td>...</td>\n",
       "      <td>4.492273e-06</td>\n",
       "      <td>4.635209e-06</td>\n",
       "      <td>3.338466e-06</td>\n",
       "      <td>2.044531e-06</td>\n",
       "      <td>2.028879e-06</td>\n",
       "      <td>1.779281e-06</td>\n",
       "      <td>1.906753e-06</td>\n",
       "      <td>1.092489e-06</td>\n",
       "      <td>4.183708e-07</td>\n",
       "      <td>1.523538e-15</td>\n",
       "    </tr>\n",
       "  </tbody>\n",
       "</table>\n",
       "<p>8 rows × 364 columns</p>\n",
       "</div>"
      ],
      "text/plain": [
       "                0             1             2             3             4    \\\n",
       "count  4.352000e+03  4.352000e+03  4.352000e+03  4.352000e+03  4.352000e+03   \n",
       "mean   1.791867e-16 -3.739350e-16  7.142979e-17 -9.724656e-17  1.089304e-17   \n",
       "std    1.059077e+01  8.173139e+00  6.290206e+00  5.899809e+00  4.755777e+00   \n",
       "min   -2.652547e+01 -1.274783e+01 -2.469224e+01 -4.787008e+01 -2.255302e+01   \n",
       "25%   -7.399924e+00 -5.048388e+00 -4.000986e+00 -3.001194e+00 -2.383840e+00   \n",
       "50%   -1.779810e+00 -1.784668e+00 -6.808596e-01 -6.803642e-02 -4.819930e-02   \n",
       "75%    6.595688e+00  2.770390e+00  3.760017e+00  3.103933e+00  2.411031e+00   \n",
       "max    9.524253e+01  1.149057e+02  8.074751e+01  1.338557e+02  7.609410e+01   \n",
       "\n",
       "                5             6             7             8             9    \\\n",
       "count  4.352000e+03  4.352000e+03  4.352000e+03  4.352000e+03  4.352000e+03   \n",
       "mean   3.836800e-17 -6.969507e-17 -3.265362e-18  6.265413e-17 -1.712274e-16   \n",
       "std    4.187379e+00  3.663482e+00  3.519570e+00  2.952624e+00  2.382871e+00   \n",
       "min   -2.058849e+01 -2.871649e+01 -1.818558e+01 -1.423366e+01 -2.376801e+01   \n",
       "25%   -2.356163e+00 -2.189302e+00 -2.283286e+00 -1.858204e+00 -1.434927e+00   \n",
       "50%   -7.350413e-02 -1.303354e-01 -1.860893e-01  1.402668e-01 -7.198744e-02   \n",
       "75%    2.287913e+00  1.959506e+00  2.180386e+00  1.909862e+00  1.358250e+00   \n",
       "max    3.965114e+01  3.559624e+01  5.628123e+01  1.936733e+01  2.458697e+01   \n",
       "\n",
       "       ...           354           355           356           357  \\\n",
       "count  ...  4.352000e+03  4.352000e+03  4.352000e+03  4.352000e+03   \n",
       "mean   ... -2.988082e-17 -2.098214e-17  1.986625e-17 -6.994047e-17   \n",
       "std    ...  3.324420e-07  2.824236e-07  2.473689e-07  1.937117e-07   \n",
       "min    ... -3.023989e-06 -2.779914e-06 -1.989357e-06 -1.760353e-06   \n",
       "25%    ... -1.378026e-07 -9.565180e-08 -1.013028e-07 -7.476632e-08   \n",
       "50%    ...  1.628219e-08  1.037889e-08 -9.718862e-09  3.965880e-09   \n",
       "75%    ...  1.393233e-07  1.054804e-07  1.014314e-07  7.356252e-08   \n",
       "max    ...  4.492273e-06  4.635209e-06  3.338466e-06  2.044531e-06   \n",
       "\n",
       "                358           359           360           361           362  \\\n",
       "count  4.352000e+03  4.352000e+03  4.352000e+03  4.352000e+03  4.352000e+03   \n",
       "mean  -2.008615e-17 -1.386594e-18 -1.172470e-18 -1.097543e-17  4.607641e-17   \n",
       "std    1.745561e-07  1.617731e-07  1.377643e-07  9.470085e-08  2.940241e-08   \n",
       "min   -1.692596e-06 -1.716397e-06 -1.619285e-06 -8.943172e-07 -2.324601e-07   \n",
       "25%   -6.683678e-08 -6.463550e-08 -4.998106e-08 -3.541248e-08 -1.156609e-08   \n",
       "50%    3.880116e-10 -1.324978e-09  6.129292e-10  2.191275e-09  4.248726e-10   \n",
       "75%    6.753657e-08  5.911348e-08  4.857961e-08  3.957595e-08  1.240289e-08   \n",
       "max    2.028879e-06  1.779281e-06  1.906753e-06  1.092489e-06  4.183708e-07   \n",
       "\n",
       "                363  \n",
       "count  4.352000e+03  \n",
       "mean   5.145517e-26  \n",
       "std    3.084790e-16  \n",
       "min   -7.468380e-15  \n",
       "25%   -7.859317e-17  \n",
       "50%    1.950242e-17  \n",
       "75%    1.172730e-16  \n",
       "max    1.523538e-15  \n",
       "\n",
       "[8 rows x 364 columns]"
      ]
     },
     "execution_count": 12,
     "metadata": {},
     "output_type": "execute_result"
    }
   ],
   "source": [
    "# Let's check out the resulting data.\n",
    "pd.DataFrame(Z_train).describe()"
   ]
  },
  {
   "cell_type": "code",
   "execution_count": 13,
   "id": "b6d0199b",
   "metadata": {},
   "outputs": [],
   "source": [
    "# Don't forget to transform the test data!\n",
    "Z_test = pca.transform(X_test)"
   ]
  },
  {
   "cell_type": "code",
   "execution_count": 14,
   "id": "376ce776",
   "metadata": {},
   "outputs": [
    {
     "name": "stdout",
     "output_type": "stream",
     "text": [
      "Explained variance (first 20 components): [0.309 0.184 0.109 0.096 0.062 0.048 0.037 0.034 0.024 0.016 0.013 0.011\n",
      " 0.009 0.006 0.004 0.003 0.003 0.003 0.003 0.002]\n",
      "\n",
      "Cumulative explained variance (first 20 components): [0.309 0.493 0.602 0.698 0.76  0.808 0.845 0.879 0.903 0.919 0.932 0.943\n",
      " 0.952 0.958 0.962 0.966 0.969 0.972 0.975 0.977]\n"
     ]
    }
   ],
   "source": [
    "# Pull the explained variance attribute.\n",
    "var_exp = pca.explained_variance_ratio_\n",
    "print(f'Explained variance (first 20 components): {np.round(var_exp[:20],3)}')\n",
    "\n",
    "print('')\n",
    "\n",
    "# Generate the cumulative explained variance.\n",
    "cum_var_exp = np.cumsum(var_exp)\n",
    "print(f'Cumulative explained variance (first 20 components): {np.round(cum_var_exp[:20],3)}')"
   ]
  },
  {
   "cell_type": "markdown",
   "id": "02ba2990",
   "metadata": {},
   "source": [
    "### PCA Performance"
   ]
  },
  {
   "cell_type": "code",
   "execution_count": 15,
   "id": "90e3f1a8",
   "metadata": {},
   "outputs": [
    {
     "data": {
      "text/plain": [
       "PCA(n_components=10, random_state=42)"
      ]
     },
     "execution_count": 15,
     "metadata": {},
     "output_type": "execute_result"
    }
   ],
   "source": [
    "# Instantiate PCA with 10 components.\n",
    "pca = PCA(n_components = 10, random_state = 42)\n",
    "\n",
    "# Fit PCA to training data.\n",
    "pca.fit(X_train)"
   ]
  },
  {
   "cell_type": "code",
   "execution_count": 16,
   "id": "328d0246",
   "metadata": {},
   "outputs": [
    {
     "name": "stdout",
     "output_type": "stream",
     "text": [
      "Training Score: 0.2902\n",
      "Testing Score: 0.2639\n"
     ]
    }
   ],
   "source": [
    "# Instantiate linear regression model.\n",
    "lm = LinearRegression()\n",
    "\n",
    "# Transform Z_train and Z_test.\n",
    "Z_train = pca.transform(X_train)\n",
    "Z_test = pca.transform(X_test)\n",
    "\n",
    "# Fit on Z_train.\n",
    "lm.fit(Z_train, y_train)\n",
    "\n",
    "# Score on training and testing sets.\n",
    "print(f'Training Score: {round(lm.score(Z_train, y_train),4)}')\n",
    "print(f'Testing Score: {round(lm.score(Z_test, y_test),4)}')"
   ]
  },
  {
   "cell_type": "code",
   "execution_count": null,
   "id": "81f71f1c",
   "metadata": {},
   "outputs": [],
   "source": []
  }
 ],
 "metadata": {
  "kernelspec": {
   "display_name": "Python 3 (ipykernel)",
   "language": "python",
   "name": "python3"
  },
  "language_info": {
   "codemirror_mode": {
    "name": "ipython",
    "version": 3
   },
   "file_extension": ".py",
   "mimetype": "text/x-python",
   "name": "python",
   "nbconvert_exporter": "python",
   "pygments_lexer": "ipython3",
   "version": "3.9.7"
  }
 },
 "nbformat": 4,
 "nbformat_minor": 5
}
