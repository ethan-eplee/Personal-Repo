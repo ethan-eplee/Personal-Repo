{
 "cells": [
  {
   "cell_type": "markdown",
   "id": "fc235866",
   "metadata": {},
   "source": [
    "#### Parameter: `C`\n",
    "`C` controls how much we regularize the boundary that is fit between classes.\n",
    "- **If `C` is small**: We regularize substantially, leading to a less perfect classification of our training data.\n",
    "- **If `C` is large**: We do not regularize much, leading to a more perfect classification of our training data."
   ]
  },
  {
   "cell_type": "markdown",
   "id": "db8b31cf",
   "metadata": {},
   "source": [
    "As we increase `C`, what happens to our bias-variance tradeoff?\n",
    "\n",
    "- If C is small: We regularize substantially, leading to a less perfect classification of our training data. --> Bias increases, variance decreases.\n",
    "- If C is large: We do not regularize much, leading to a more perfect classification of our training data. --> Bias decreases, variance increases.  "
   ]
  },
  {
   "cell_type": "markdown",
   "id": "083a9e59",
   "metadata": {},
   "source": [
    "## Soft margin SVM"
   ]
  },
  {
   "cell_type": "code",
   "execution_count": 3,
   "id": "79ffd3ae",
   "metadata": {},
   "outputs": [],
   "source": [
    "# # C values to GridSearch over\n",
    "# pgrid = {\"C\": np.linspace(0.0001, 2, 10)}"
   ]
  },
  {
   "cell_type": "code",
   "execution_count": 4,
   "id": "f626c981",
   "metadata": {},
   "outputs": [],
   "source": [
    "# # (THREAD) Instantiate and fit a gridsearch model for this SVC!\n",
    "# svc = LinearSVC(max_iter=20000)\n",
    "\n",
    "# cv = StratifiedKFold(n_splits=5, shuffle=True, random_state=42)\n",
    "\n",
    "# gcv = GridSearchCV(svc, pgrid, cv=cv)\n",
    "# gcv.fit(X_sc, y);"
   ]
  },
  {
   "cell_type": "code",
   "execution_count": 5,
   "id": "ca440138",
   "metadata": {},
   "outputs": [],
   "source": [
    "# # What is the best cross-validated score?\n",
    "# gcv.best_score_\n",
    "\n",
    "# # What is the best model?\n",
    "# gcv.best_params_"
   ]
  },
  {
   "cell_type": "code",
   "execution_count": 6,
   "id": "270feaba",
   "metadata": {},
   "outputs": [],
   "source": [
    "# # Save cv results as a DataFrame\n",
    "# df = pd.DataFrame(gcv.cv_results_)\n",
    "\n",
    "# # Visualize how different values of C affect accuracy\n",
    "# plt.plot(\"param_C\", \"mean_test_score\", data = df)"
   ]
  },
  {
   "cell_type": "markdown",
   "id": "824d695e",
   "metadata": {},
   "source": [
    "## Kernel SVMs"
   ]
  },
  {
   "cell_type": "code",
   "execution_count": null,
   "id": "d5a462e4",
   "metadata": {},
   "outputs": [],
   "source": []
  }
 ],
 "metadata": {
  "kernelspec": {
   "display_name": "Python 3 (ipykernel)",
   "language": "python",
   "name": "python3"
  },
  "language_info": {
   "codemirror_mode": {
    "name": "ipython",
    "version": 3
   },
   "file_extension": ".py",
   "mimetype": "text/x-python",
   "name": "python",
   "nbconvert_exporter": "python",
   "pygments_lexer": "ipython3",
   "version": "3.9.7"
  }
 },
 "nbformat": 4,
 "nbformat_minor": 5
}
