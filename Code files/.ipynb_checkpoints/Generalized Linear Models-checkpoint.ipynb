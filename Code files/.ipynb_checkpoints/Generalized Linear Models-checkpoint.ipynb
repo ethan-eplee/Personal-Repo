{
 "cells": [
  {
   "cell_type": "markdown",
   "id": "611f2fdc",
   "metadata": {},
   "source": [
    "## Anatomy of a GLM\n",
    "GLMs are made up of three components:\n",
    "* **Systematic component** (or **linear component**) - The choice of _x_-variables in your model.\n",
    "* **Random component** - Distributional assumption of $y_i$.\n",
    "* **Link function** - The function that connects systematic and random components. Must input the range of possible values of $\\mu_i$ and output $\\mathbb{R}$.\n",
    "\n",
    "While there are many kinds of GLMs out there, today we'll focus on two new commonly used ones:\n",
    "* **Poisson regression**\n",
    "* **Gamma regression**"
   ]
  },
  {
   "cell_type": "markdown",
   "id": "4d880ae6",
   "metadata": {},
   "source": [
    "## Poisson Regression\n",
    "\n",
    "**When do we use it?** When we want to model something on the $\\{0,1,2,\\ldots\\}$ range... like number of cars on through a toll road, number of objects sold or number of awards earned!"
   ]
  },
  {
   "cell_type": "code",
   "execution_count": 1,
   "id": "2f79c3de",
   "metadata": {},
   "outputs": [],
   "source": [
    "import statsmodels.api as sm"
   ]
  },
  {
   "cell_type": "code",
   "execution_count": null,
   "id": "b4345930",
   "metadata": {},
   "outputs": [],
   "source": [
    "# What are the three components of a poisson regression GLM?\n",
    "# Systematic component - We already picked this\n",
    "# Random component - Poisson distribution\n",
    "# Link function - log"
   ]
  },
  {
   "cell_type": "code",
   "execution_count": null,
   "id": "3cf539d1",
   "metadata": {},
   "outputs": [],
   "source": [
    "# # Set up X\n",
    "\n",
    "# # Set up y\n",
    "\n",
    "# # Fit model\n",
    "# # In statsmodels, y is the first argument, X is the second argument.\n",
    "# glm_poi = sm.GLM(\n",
    "#     y, X,\n",
    "#     family=sm.families.Poisson(link = sm.families.links.log())\n",
    "# ).fit()\n",
    "\n",
    "# # Generate summary of model.\n",
    "# glm_poi.summary()"
   ]
  },
  {
   "cell_type": "markdown",
   "id": "b1b66eec",
   "metadata": {},
   "source": [
    "### Interpreting Poisson Coefficients\n",
    "\n",
    "Because of the log link function, we interpret a one-unit increase in $X_i$ as follows:\n",
    "\n",
    "\"As $X_i$ increases by 1, I expect $Y$ to increase by a factor of $e^{\\beta_1}$.\""
   ]
  },
  {
   "cell_type": "markdown",
   "id": "823bcd79",
   "metadata": {},
   "source": [
    "**Example**: All else held equal, for a one-unit increase in `math`, I expect to win $e^{0.0702} \\approx 1.07$ times as many awards."
   ]
  },
  {
   "cell_type": "code",
   "execution_count": 3,
   "id": "ec10e509",
   "metadata": {},
   "outputs": [
    {
     "data": {
      "text/plain": [
       "1.072722704342061"
      ]
     },
     "execution_count": 3,
     "metadata": {},
     "output_type": "execute_result"
    }
   ],
   "source": [
    "import numpy as np\n",
    "np.exp(0.0702)"
   ]
  },
  {
   "cell_type": "code",
   "execution_count": null,
   "id": "ef0a1d6f",
   "metadata": {},
   "outputs": [],
   "source": []
  }
 ],
 "metadata": {
  "kernelspec": {
   "display_name": "Python 3 (ipykernel)",
   "language": "python",
   "name": "python3"
  },
  "language_info": {
   "codemirror_mode": {
    "name": "ipython",
    "version": 3
   },
   "file_extension": ".py",
   "mimetype": "text/x-python",
   "name": "python",
   "nbconvert_exporter": "python",
   "pygments_lexer": "ipython3",
   "version": "3.9.7"
  }
 },
 "nbformat": 4,
 "nbformat_minor": 5
}
