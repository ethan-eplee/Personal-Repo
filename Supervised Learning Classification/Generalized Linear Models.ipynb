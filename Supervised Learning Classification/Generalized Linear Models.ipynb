{
 "cells": [
  {
   "cell_type": "markdown",
   "id": "e427b949",
   "metadata": {},
   "source": [
    "## Anatomy of a GLM\n",
    "GLMs are made up of three components:\n",
    "* **Systematic component** (or **linear component**) - The choice of _x_-variables in your model.\n",
    "* **Random component** - Distributional assumption of $y_i$.\n",
    "* **Link function** - The function that connects systematic and random components. Must input the range of possible values of $\\mu_i$ and output $\\mathbb{R}$.\n",
    "\n",
    "While there are many kinds of GLMs out there, today we'll focus on two new commonly used ones:\n",
    "* **Poisson regression**\n",
    "* **Gamma regression**"
   ]
  },
  {
   "cell_type": "markdown",
   "id": "8cd82029",
   "metadata": {},
   "source": [
    "## Poisson Regression\n",
    "\n",
    "**When do we use it?** When we want to model something on the $\\{0,1,2,\\ldots\\}$ range... like number of cars on through a toll road, number of objects sold or number of awards earned!"
   ]
  },
  {
   "cell_type": "code",
   "execution_count": 1,
   "id": "d7767a99",
   "metadata": {},
   "outputs": [],
   "source": [
    "import statsmodels.api as sm"
   ]
  },
  {
   "cell_type": "code",
   "execution_count": null,
   "id": "f8ad2033",
   "metadata": {},
   "outputs": [],
   "source": [
    "# What are the three components of a poisson regression GLM?\n",
    "# Systematic component - We already picked this\n",
    "# Random component - Poisson distribution\n",
    "# Link function - log"
   ]
  },
  {
   "cell_type": "code",
   "execution_count": null,
   "id": "eee77875",
   "metadata": {},
   "outputs": [],
   "source": [
    "# # Set up X\n",
    "\n",
    "# # Set up y\n",
    "\n",
    "# # Fit model\n",
    "# # In statsmodels, y is the first argument, X is the second argument.\n",
    "# glm_poi = sm.GLM(\n",
    "#     y, X,\n",
    "#     family=sm.families.Poisson(link = sm.families.links.log())\n",
    "# ).fit()\n",
    "\n",
    "# # Generate summary of model.\n",
    "# glm_poi.summary()"
   ]
  },
  {
   "cell_type": "markdown",
   "id": "1c913f07",
   "metadata": {},
   "source": [
    "### Interpreting Poisson Coefficients\n",
    "\n",
    "Because of the log link function, we interpret a one-unit increase in $X_i$ as follows:\n",
    "\n",
    "\"As $X_i$ increases by 1, I expect $Y$ to increase by a factor of $e^{\\beta_1}$.\""
   ]
  },
  {
   "cell_type": "markdown",
   "id": "64936895",
   "metadata": {},
   "source": [
    "**Example**: All else held equal, for a one-unit increase in `math`, I expect to win $e^{0.0702} \\approx 1.07$ times as many awards."
   ]
  },
  {
   "cell_type": "code",
   "execution_count": 3,
   "id": "f6e8ef3a",
   "metadata": {},
   "outputs": [
    {
     "data": {
      "text/plain": [
       "1.072722704342061"
      ]
     },
     "execution_count": 3,
     "metadata": {},
     "output_type": "execute_result"
    }
   ],
   "source": [
    "import numpy as np\n",
    "np.exp(0.0702)"
   ]
  },
  {
   "cell_type": "markdown",
   "id": "c490268f",
   "metadata": {},
   "source": [
    "## Gamma Regression\n",
    "\n",
    "**When do we use it?** When we want to model something on the $[0,\\infty)$ range... like time until some event occurs!\n"
   ]
  },
  {
   "cell_type": "code",
   "execution_count": 4,
   "id": "3314fb0c",
   "metadata": {},
   "outputs": [],
   "source": [
    "# # Set up X.\n",
    "# X = sm.add_constant(clot[['plasma_pct', 'lot']])\n",
    "\n",
    "# # Set up y.\n",
    "# y = clot['clot_time']\n",
    "\n",
    "# # Fit model.\n",
    "# # In statsmodels, y is the first argument, X is the second argument.\n",
    "# # NOTE: For prediction purposes, the inverse link might actually be best\n",
    "# # (it's the \"canonical link\")\n",
    "# # but the log link allows us to interpret our coefficients.\n",
    "\n",
    "# results = sm.GLM(\n",
    "#     y, X,\n",
    "#     family=sm.families.Gamma(link = sm.families.links.log())\n",
    "# #     family = sm.families.Gamma(link = sm.families.links.inverse_power)\n",
    "# ).fit()\n",
    "\n",
    "# # Generate summary of model.\n",
    "# results.summary()"
   ]
  },
  {
   "cell_type": "markdown",
   "id": "8ebe5873",
   "metadata": {},
   "source": [
    "### Interpreting Gamma Coefficients\n",
    "\n",
    "Because of the log link function (again!), we interpret a one-unit increase in $X_i$ as follows:\n",
    "\n",
    "\"As $X_i$ increases by 1, I expect $Y$ to increase by a factor of $e^{\\beta_1}$.\""
   ]
  },
  {
   "cell_type": "code",
   "execution_count": 5,
   "id": "87433b27",
   "metadata": {},
   "outputs": [
    {
     "data": {
      "text/plain": [
       "0.9845210497239912"
      ]
     },
     "execution_count": 5,
     "metadata": {},
     "output_type": "execute_result"
    }
   ],
   "source": [
    "np.exp(-0.0156)"
   ]
  },
  {
   "cell_type": "markdown",
   "id": "0d0e82ea",
   "metadata": {},
   "source": [
    "### How would you interpret plasma_pct?\n",
    "\n",
    "For a one-unit increase in `plasma_pct`, I expect the blood will take $e^{-0.0156} \\approx 98\\%$ as much time to clot, holding `lot` constant.\n",
    "    \n",
    "Another way to think about this is, for a one-unit increase in `plasma_pct`, I expect the blood will clot about $2\\%$ faster, holding `lot` constant."
   ]
  },
  {
   "cell_type": "markdown",
   "id": "6dc84d2c",
   "metadata": {},
   "source": [
    "---\n",
    "## Iteratively Reweighted Least Squares\n",
    "\n",
    "When fitting an OLS regression model, we can find our best values for $\\beta$ by solving $\\hat{\\pmb\\beta} = (X^TX)^{-1}X^Ty$.\n",
    "\n",
    "GLMs are typically not \"directly solvable.\" There is [no closed-form solution](http://mathworld.wolfram.com/Closed-FormSolution.html) for generalized linear models, including linear regression!\n",
    "\n",
    "#### How does the algorithm work?\n",
    "An algorithm called \"iteratively reweighted least squares\" [has been shown](http://www.utstat.toronto.edu/~brunner/oldclass/2201s11/readings/glmbook.pdf) is \"easy\" to implement in a computer.\n",
    "- A solution is initially guessed, then iteratively refined until we converge on an answer.\n",
    "- IRLS is a special case of a **gradient descent algorithm**. We'll learn about gradient descent tomorrow.\n",
    "- At each step (\"iteration\"), these weights will change. (\"reweighted\")\n",
    "\n",
    "The default maximum number of iterations for GLMs in `statsmodels` is 100. \n",
    "- If `No. Iterations` is less than 100, that means the algorithm probably converged.\n",
    "- If `No. Iterations` is 100, that means the algorithm probably didn't converge and that the $\\mathbf{\\hat{\\beta}}$ are still changing. Therefore, **your output is unreliable - DO NOT USE IT**. It could also give some information on the \"flatness\" of your error function. Even more than 20 iterations is sketchy.\n",
    "\n",
    "There are potential pitfalls to this algorithm (some of which we'll cover later). However, what you should know:\n",
    "- If you get a `ConvergenceWarning` or any indication that your number of iterations is large, that means that your model did not fit properly and that you should not rely on the results!\n",
    "\n",
    "---"
   ]
  },
  {
   "cell_type": "code",
   "execution_count": 7,
   "id": "1428a811",
   "metadata": {},
   "outputs": [],
   "source": [
    "# # Did our results converge?\n",
    "# results.converged"
   ]
  },
  {
   "cell_type": "markdown",
   "id": "7d55539c",
   "metadata": {},
   "source": [
    "## Summary\n",
    "* Two new linear models:\n",
    "    - **Poisson regression** - For when your y-variable is Poisson distributed. Most commonly used for _count data_.\n",
    "        - e.g. Predicting how many children a couple will have based on age and income\n",
    "    - **Gamma regression** - For when your y-variable is Gamma distributed. Most commonly used for _waiting-time data_.\n",
    "        - e.g. Predicting how long your phone's battery will last based on screentime use"
   ]
  },
  {
   "cell_type": "code",
   "execution_count": null,
   "id": "54f51a2e",
   "metadata": {},
   "outputs": [],
   "source": []
  }
 ],
 "metadata": {
  "kernelspec": {
   "display_name": "Python 3 (ipykernel)",
   "language": "python",
   "name": "python3"
  },
  "language_info": {
   "codemirror_mode": {
    "name": "ipython",
    "version": 3
   },
   "file_extension": ".py",
   "mimetype": "text/x-python",
   "name": "python",
   "nbconvert_exporter": "python",
   "pygments_lexer": "ipython3",
   "version": "3.9.7"
  }
 },
 "nbformat": 4,
 "nbformat_minor": 5
}
